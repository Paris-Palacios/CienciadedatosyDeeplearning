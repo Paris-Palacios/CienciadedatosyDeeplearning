{
 "cells": [
  {
   "cell_type": "markdown",
   "metadata": {},
   "source": [
    "<!--Información del curso-->\n",
    "<img align=\"left\" style=\"padding-right:10px;\" src=\"figuras/logo_ciencia_datos.png\">"
   ]
  },
  {
   "cell_type": "markdown",
   "metadata": {},
   "source": [
    "<center><h1 style=\"font-size:2em;color:#2467C0\">  Caso de estudio </h1></center>\n",
    "\n",
    "<center><h4 style=\"font-size:2em;color:#840700\">  Pasajeros del Titanic  </h4></center>\n",
    "\n",
    "<br>\n",
    "<table>\n",
    "<col width=\"550\">\n",
    "<col width=\"450\">\n",
    "<tr>\n",
    "<td><img src=\"figuras/titanic.jpg\" align=\"middle\" style=\"width:500px\"/></td>\n",
    "<td align=\"left-align\">\n",
    "\n",
    "EL **Titanic** fue un transatlántico británico, el mayor barco del mundo al finalizar su construcción, que se hundió en la noche del 14 a la madrugada del 15 de abril de 1912 durante su viaje inaugural desde Southampton a Nueva York. Solo sobrevivieron 711 de las 2208 personas que iban a bordo (contando pasajeros y tripulación)\n",
    "\n",
    "En este ejemplo, analizaremos información de los pasajeros del Titanic utilizando la librerá Pandas.\n",
    "\n",
    "    \n",
    "<br>\n",
    "</td>\n",
    "</tr>\n",
    "</table>"
   ]
  },
  {
   "cell_type": "markdown",
   "metadata": {},
   "source": [
    "# Librerías"
   ]
  },
  {
   "cell_type": "markdown",
   "metadata": {
    "collapsed": true
   },
   "source": [
    "Cargamos las bibliotecas que necesitamos "
   ]
  },
  {
   "cell_type": "code",
   "execution_count": 2,
   "metadata": {},
   "outputs": [],
   "source": [
    "import csv\n",
    "import matplotlib.pyplot as plt"
   ]
  },
  {
   "cell_type": "markdown",
   "metadata": {},
   "source": [
    "# Cargamos los datos"
   ]
  },
  {
   "cell_type": "code",
   "execution_count": 199,
   "metadata": {
    "run_control": {
     "frozen": false,
     "read_only": false
    },
    "scrolled": false
   },
   "outputs": [],
   "source": [
    "#Leer el archivo datos/titanic.csv\n"
   ]
  },
  {
   "cell_type": "markdown",
   "metadata": {},
   "source": [
    "Descripción de las columnas : \n",
    "* Survival - Supervivencia  (0 = No; 1 = Si).  \n",
    "* Pclass - Clase (1 = 1st; 2 = 2nd; 3 = 3rd)\n",
    "* Name - Nombre\n",
    "* Sex - Sexo\n",
    "* Age - Edad\n",
    "* Sibsp - Número de hermanos / cónyuges a bordo\n",
    "* Parch - Número de padres / niños a bordo\n",
    "* Ticket - Número de ticket\n",
    "* Fare - Tarifa \n",
    "* Cabin - Número de cabina\n",
    "* Embarked - Puerto de embarque (C = Cherbourg; Q = Queenstown; S = Southampton)"
   ]
  },
  {
   "cell_type": "markdown",
   "metadata": {},
   "source": [
    "<div class=\"alert alert-info\">\n",
    " <ul>\n",
    "  <li>Encuentre el número de pasajeros</li>\n",
    "</ul> \n",
    "\n",
    "</div>"
   ]
  },
  {
   "cell_type": "code",
   "execution_count": 148,
   "metadata": {},
   "outputs": [
    {
     "name": "stdout",
     "output_type": "stream",
     "text": [
      "891\n"
     ]
    }
   ],
   "source": [
    "contador_personas=0\n",
    "with open('datos/titanic_datos.txt') as datos:\n",
    "    lector = csv.reader(datos)\n",
    "    next(lector)\n",
    "    for linea in lector:\n",
    "        contador_personas = contador_personas + 1\n",
    "    print(contador_personas)"
   ]
  },
  {
   "cell_type": "markdown",
   "metadata": {},
   "source": [
    "<div class=\"alert alert-info\">\n",
    " <ul>\n",
    "  <li>Encuentre el número de sobrevivientes</li>\n",
    "</ul> \n",
    "\n",
    "</div>"
   ]
  },
  {
   "cell_type": "code",
   "execution_count": 6,
   "metadata": {},
   "outputs": [
    {
     "name": "stdout",
     "output_type": "stream",
     "text": [
      "Sobrevivientes: 342\n"
     ]
    }
   ],
   "source": [
    "\n",
    "contador_sobrevivientes=0\n",
    "\n",
    "import csv\n",
    "#datos/titanic_datos.txt\n",
    "with open('datos/titanic_datos.txt') as datos:\n",
    "    lector = csv.reader(datos)\n",
    "    next(lector)\n",
    "    for linea in lector:\n",
    "        if linea[1] == '1' :\n",
    "            contador_sobrevivientes = contador_sobrevivientes + 1\n",
    "        \n",
    "print('Sobrevivientes:',contador_sobrevivientes)\n",
    "\n",
    "\n"
   ]
  },
  {
   "cell_type": "markdown",
   "metadata": {},
   "source": [
    "<div class=\"alert alert-info\">\n",
    " <ul>\n",
    "  <li>Encuentre el numero de pasajeros por clase </li>\n",
    "</ul> \n",
    "\n",
    "</div>"
   ]
  },
  {
   "cell_type": "code",
   "execution_count": 7,
   "metadata": {},
   "outputs": [
    {
     "name": "stdout",
     "output_type": "stream",
     "text": [
      "numero de pasajeros C1: 216\n",
      "numero de pasajeros C2 184\n",
      "numero de pasajeros C3: 491\n"
     ]
    }
   ],
   "source": [
    "contador_C1=0\n",
    "contador_C2=0\n",
    "contador_C3=0\n",
    "\n",
    "\n",
    "with open('datos/titanic_datos.txt') as datos:\n",
    "    lector = csv.reader(datos)\n",
    "    next(lector)\n",
    "    for linea in lector:\n",
    "        if linea[2] == '1' :\n",
    "            contador_C1 = contador_C1 + 1\n",
    "        if linea[2] == '2' :\n",
    "            contador_C2 = contador_C2 + 1\n",
    "        if linea[2] == '3' :\n",
    "            contador_C3 = contador_C3 + 1        \n",
    "        \n",
    "print('numero de pasajeros C1:', contador_C1)\n",
    "print('numero de pasajeros C2', contador_C2)\n",
    "print('numero de pasajeros C3:', contador_C3)\n"
   ]
  },
  {
   "cell_type": "markdown",
   "metadata": {},
   "source": [
    "<div class=\"alert alert-info\">\n",
    " <ul>\n",
    "  <li>Encuentre el numero de pasajeros que tengan como nombre o apellido el string 'William'</li>\n",
    "</ul> \n",
    "\n",
    "</div>"
   ]
  },
  {
   "cell_type": "code",
   "execution_count": 38,
   "metadata": {},
   "outputs": [
    {
     "name": "stdout",
     "output_type": "stream",
     "text": [
      "Allen\n",
      " Mr. William Henry\n",
      "Saundercock\n",
      " Mr. William Henry\n",
      "Williams\n",
      " Mr. Charles Eugene\n",
      "Sloper\n",
      " Mr. William Thompson\n",
      "Spencer\n",
      " Mrs. William Augustus (Marie Eugenie)\n",
      "Turpin\n",
      " Mrs. William John Robert (Dorothy Ann Wonnacott)\n",
      "Rogers\n",
      " Mr. William John\n",
      "Goodwin\n",
      " Master. William Frederick\n",
      "Ford\n",
      " Mr. William Neal\n",
      "Greenfield\n",
      " Mr. William Bertram\n",
      "Turpin\n",
      " Mr. William John Robert\n",
      "Williams\n",
      " Mr. Charles Duane\n",
      "Goldsmith\n",
      " Master. Frank John William Frankie\n",
      "Skoog\n",
      " Mrs. William (Anna Bernhardina Karlsson)\n",
      "Carbines\n",
      " Mr. William\n",
      "Mellors\n",
      " Mr. William John\n",
      "Leyson\n",
      " Mr. Robert William Norman\n",
      "Pengelly\n",
      " Mr. Frederick William\n",
      "Minahan\n",
      " Dr. William Edward\n",
      "Hamalainen\n",
      " Mrs. William (Anna)\n",
      "Stead\n",
      " Mr. William Thomas\n",
      "Lobb\n",
      " Mr. William Arthur\n",
      "Harrison\n",
      " Mr. William\n",
      "Graham\n",
      " Mrs. William Thompson (Edith Junkins)\n",
      "Tornquist\n",
      " Mr. William Henry\n",
      "Smith\n",
      " Mr. Richard William\n",
      "Johnson\n",
      " Mr. William Cahoone Jr\n",
      "Williams\n",
      " Mr. Howard Hugh Harry\n",
      "Lahtinen\n",
      " Mrs. William (Anna Sylfven)\n",
      "Frauenthal\n",
      " Mrs. Henry William (Clara Heinsheimer)\n",
      "Coutts\n",
      " Master. William Loch William\n",
      "Williams-Lambert\n",
      " Mr. Fletcher Fellows\n",
      "Beavan\n",
      " Mr. William Thomas\n",
      "Carter\n",
      " Mr. William Ernest\n",
      "Trout\n",
      " Mrs. William H (Jessie L)\n",
      "Richards\n",
      " Master. William Rowe\n",
      "Matthews\n",
      " Mr. William John\n",
      "Silvey\n",
      " Mr. William Baird\n",
      "Morley\n",
      " Mr. William\n",
      "Campbell\n",
      " Mr. William\n",
      "Somerton\n",
      " Mr. Francis William\n",
      "Shellard\n",
      " Mr. Frederick William\n",
      "Walker\n",
      " Mr. William Anderson\n",
      "Angle\n",
      " Mrs. William A (Florence Mary Agnes Hughes)\n",
      "Silvey\n",
      " Mrs. William Baird (Alice Munger)\n",
      "Downton\n",
      " Mr. William James\n",
      "Elsbury\n",
      " Mr. William James\n",
      "Torber\n",
      " Mr. Ernst William\n",
      "Daniel\n",
      " Mr. Robert Williams\n",
      "Brocklebank\n",
      " Mr. William Alfred\n",
      "Lobb\n",
      " Mrs. William Arthur (Cordelia K Stanlick)\n",
      "Parr\n",
      " Mr. William Henry Marsh\n",
      "Frauenthal\n",
      " Dr. Henry William\n",
      "Lindqvist\n",
      " Mr. Eino William\n",
      "Brown\n",
      " Mrs. Thomas William Solomon (Elizabeth Catherine Ford)\n",
      "Brown\n",
      " Mr. Thomas William Solomon\n",
      "Moubarek\n",
      " Master. Halim Gonios (William George)\n",
      "Gillespie\n",
      " Mr. William Henry\n",
      "Berriman\n",
      " Mr. William John\n",
      "Williams\n",
      " Mr. Leslie\n",
      "Cavendish\n",
      " Mr. Tyrell William\n",
      "Carter\n",
      " Mrs. William Ernest (Lucile Polk)\n",
      "Ali\n",
      " Mr. William\n",
      "Hoyt\n",
      " Mr. William Fisher\n",
      "Carter\n",
      " Master. William Thornton II\n",
      "Alexander\n",
      " Mr. William\n",
      "Gill\n",
      " Mr. John William\n",
      "Shelley\n",
      " Mrs. William (Imanita Parrish Hall)\n",
      "Rice\n",
      " Mrs. William (Margaret Norton)\n",
      "69\n"
     ]
    }
   ],
   "source": [
    "contador_William=0\n",
    "\n",
    "with open('datos/titanic_datos.txt') as datos:\n",
    "    lector = csv.reader(datos)\n",
    "    next(lector)\n",
    "    for linea in lector:\n",
    "        if ('William' in linea[3]) or ('William' in linea[4]):\n",
    "            contador_William = contador_William +1\n",
    "            print(linea[3])\n",
    "            print(linea[4])\n",
    "print(contador_William)"
   ]
  },
  {
   "cell_type": "markdown",
   "metadata": {},
   "source": [
    "<div class=\"alert alert-success\">\n",
    " <ul>\n",
    "  <li>1. Encuentre el número de mujeres y hombres. ¿Cuál era la probabilidad de supervivencia de una persona? ¿Cuál era la probabilidad de supervivencia de un hombre y el de una mujer?</li>\n",
    "</ul> \n",
    "\n",
    "</div>"
   ]
  },
  {
   "cell_type": "code",
   "execution_count": 45,
   "metadata": {},
   "outputs": [
    {
     "name": "stdout",
     "output_type": "stream",
     "text": [
      "Numero de hombres:  577\n",
      "Numero de mujeres:  314\n",
      "Probabilidad de supervivencia de una persona:  0.3838383838383838\n",
      "Probabilidad supervivencia hombre: 0.122334455667789\n",
      "Probabilidad supervivencia mujer: 0.2615039281705948\n"
     ]
    }
   ],
   "source": [
    "num_mujeres = 0\n",
    "num_hombres = 0\n",
    "num_hombres_sobreviv=0\n",
    "num_mujeres_sobreviv=0\n",
    "contador_sobrevivientes=0\n",
    "num_total =0\n",
    "with open('datos/titanic_datos.txt') as datos:\n",
    "    lector = csv.reader(datos)\n",
    "    next(lector)\n",
    "    for linea in lector:\n",
    "        \n",
    "        num_total = num_total + 1\n",
    "        \n",
    "        if linea[1] == '1' :\n",
    "            contador_sobrevivientes = contador_sobrevivientes + 1\n",
    "\n",
    "            \n",
    "        if ('female' == linea[5]) and linea[1] == '1': \n",
    "            num_mujeres_sobreviv = num_mujeres_sobreviv + 1\n",
    "            \n",
    "        if ('male' == linea[5]) and linea[1] == '1': \n",
    "            num_hombres_sobreviv = num_hombres_sobreviv + 1\n",
    "            \n",
    "        if 'female' == linea[5]: \n",
    "            num_mujeres = num_mujeres + 1\n",
    "            \n",
    "        if 'male' == linea[5]: \n",
    "            num_hombres = num_hombres + 1\n",
    "        \n",
    "        \n",
    "print('Numero de hombres: ',num_hombres)\n",
    "print('Numero de mujeres: ',num_mujeres)\n",
    "print('Probabilidad de supervivencia de una persona: ',contador_sobrevivientes/num_total)\n",
    "print('Probabilidad supervivencia hombre:',num_hombres_sobreviv/num_total)\n",
    "print('Probabilidad supervivencia mujer:',num_mujeres_sobreviv/num_total)"
   ]
  },
  {
   "cell_type": "markdown",
   "metadata": {},
   "source": [
    "<div class=\"alert alert-success\">\n",
    " <ul>\n",
    "  <li>2. ¿Cuál era la edad promedio?¿Cual era la edad de la persona más grande y la de la más joven? ¿Cuáles eran las edades de las 5 personas mas grandes?.  </li>\n",
    "</ul> \n",
    "\n",
    "</div>"
   ]
  },
  {
   "cell_type": "code",
   "execution_count": 97,
   "metadata": {},
   "outputs": [
    {
     "name": "stdout",
     "output_type": "stream",
     "text": [
      "Edad promedio: 29.847605224963715\n",
      "Edad persona mas grande:  80\n",
      "Edad persona mas joven:  1\n",
      "Edades 5 personas mas grandes: 80 , 74 , 71 , 70 , 66\n"
     ]
    }
   ],
   "source": [
    "suma=0\n",
    "contador_personas=0\n",
    "edad_mas_grande = 0\n",
    "edad_mas_joven = 200\n",
    "lista_edades = []\n",
    "with open('datos/titanic_datos.txt') as datos:\n",
    "    lector = csv.reader(datos)\n",
    "    next(lector)\n",
    "    for linea in lector:\n",
    "        \n",
    "        try:\n",
    "            suma =  suma + int(linea[6])\n",
    "            contador_personas = contador_personas + 1\n",
    "            \n",
    "            if edad_mas_grande < int(linea[6]):\n",
    "                edad_mas_grande = int(linea[6])\n",
    "                \n",
    "            if edad_mas_joven > int(linea[6]):\n",
    "                edad_mas_joven = int(linea[6])\n",
    "                \n",
    "                \n",
    "            lista_edades.append(int(linea[6]))\n",
    "        except:\n",
    "            suma = suma\n",
    "            \n",
    "lista_edades.sort()\n",
    "lista_edades.reverse()\n",
    "lista_edades = list(dict.fromkeys(lista_edades)) #se convierte en dicccionario porque no permiten valores repetidos\n",
    "\n",
    "print('Edad promedio:',suma/contador_personas)\n",
    "print('Edad persona mas grande: ', edad_mas_grande)\n",
    "print('Edad persona mas joven: ', edad_mas_joven)\n",
    "print('Edades 5 personas mas grandes:' , lista_edades[0],',',lista_edades[1],',',lista_edades[2],',',lista_edades[3],',',lista_edades[4])"
   ]
  },
  {
   "cell_type": "markdown",
   "metadata": {},
   "source": [
    "<div class=\"alert alert-success\">\n",
    " <ul>\n",
    "  <li> 3. ¿Cuál era la probabilidad de supervivencia de alguien menor a 25 años?  </li>\n",
    "</ul> \n",
    "\n",
    "</div>"
   ]
  },
  {
   "cell_type": "markdown",
   "metadata": {},
   "source": [
    "Se dividara el numero de sobrevivientes menor a 25 entre el total"
   ]
  },
  {
   "cell_type": "code",
   "execution_count": 109,
   "metadata": {},
   "outputs": [
    {
     "name": "stdout",
     "output_type": "stream",
     "text": [
      "Probabilidad de sobrevivir menor a 25:  0.13131313131313133\n"
     ]
    }
   ],
   "source": [
    "contador_personas = 0\n",
    "num_sobrevivientes_menor_a_25 = 0\n",
    "\n",
    "with open('datos/titanic_datos.txt') as datos:\n",
    "    lector = csv.reader(datos)\n",
    "    next(lector)\n",
    "    for linea in lector:\n",
    "        try:\n",
    "            contador_personas = contador_personas + 1\n",
    "            \n",
    "            if int(linea[6]) < 26 and linea[1] == '1':\n",
    "                num_sobrevivientes_menor_a_25 = num_sobrevivientes_menor_a_25 +1\n",
    "               \n",
    "        except:\n",
    "            num_sobrevivientes_menor_a_25 =num_sobrevivientes_menor_a_25\n",
    "\n",
    "print('Probabilidad de sobrevivir menor a 25: ', num_sobrevivientes_menor_a_25/num_total)\n",
    "        "
   ]
  },
  {
   "cell_type": "markdown",
   "metadata": {},
   "source": [
    "<div class=\"alert alert-success\">\n",
    " <ul>\n",
    "  <li> 4. Encuentre en número de personas que embarcaron en Cherbourg, Queenstown y en Southampton.  </li>\n",
    "</ul> \n",
    "\n",
    "</div>"
   ]
  },
  {
   "cell_type": "code",
   "execution_count": null,
   "metadata": {},
   "outputs": [],
   "source": []
  },
  {
   "cell_type": "code",
   "execution_count": 115,
   "metadata": {},
   "outputs": [
    {
     "name": "stdout",
     "output_type": "stream",
     "text": [
      "Personas Southampton: 644\n",
      "Personas Queenstown: 77\n",
      "Personas Cherbourg: 168\n"
     ]
    }
   ],
   "source": [
    "personas_cherbourg = 0\n",
    "personas_queenstown = 0\n",
    "personas_southampton = 0\n",
    "with open('datos/titanic_datos.txt') as datos:\n",
    "    lector = csv.reader(datos)\n",
    "    next(lector)\n",
    "    for linea in lector:\n",
    "        if linea[12] == 'S':\n",
    "            personas_southampton = personas_southampton +1\n",
    "        if linea[12] == 'Q':\n",
    "            personas_queenstown = personas_queenstown +1\n",
    "        if linea[12] == 'C':\n",
    "            personas_cherbourg = personas_cherbourg +1\n",
    "            \n",
    "print('Personas Southampton:', personas_southampton)\n",
    "print('Personas Queenstown:', personas_queenstown)\n",
    "print('Personas Cherbourg:', personas_cherbourg)"
   ]
  },
  {
   "cell_type": "markdown",
   "metadata": {},
   "source": [
    "<div class=\"alert alert-success\">\n",
    " <ul>\n",
    "  <li> 5. Con los datos del ejercicio anterior haga una grafica de barras </li>\n",
    "</ul> \n",
    "\n",
    "</div>"
   ]
  },
  {
   "cell_type": "code",
   "execution_count": 135,
   "metadata": {},
   "outputs": [
    {
     "data": {
      "text/plain": [
       "Text(0, 0.5, 'Cantidad de personas')"
      ]
     },
     "execution_count": 135,
     "metadata": {},
     "output_type": "execute_result"
    },
    {
     "data": {
      "image/png": "[encoded data removed]",
      "text/plain": [
       "<Figure size 432x288 with 1 Axes>"
      ]
     },
     "metadata": {
      "needs_background": "light"
     },
     "output_type": "display_data"
    }
   ],
   "source": [
    "embarcos_cantidad = [personas_southampton,personas_queenstown,personas_cherbourg]\n",
    "embarcos_nombre = ['Southampton','Queenstown','Cherbourg']\n",
    "\n",
    "plt.bar(embarcos_nombre, embarcos_cantidad)\n",
    "plt.xlabel('Embarcos')\n",
    "plt.ylabel('Cantidad de personas')"
   ]
  },
  {
   "cell_type": "markdown",
   "metadata": {},
   "source": [
    "<div class=\"alert alert-success\">\n",
    " <ul>\n",
    "  <li> 6. ¿Cuál hubiera sido la ganancia total? Considere que el día del embarque se le pedía un impuesto a cada tripulante dependiendo de su clase (3era = 0.5 pounds, 2da = 15 pounds, 1era=40 pounds).  Defina una función llamada conversión que reciba dos parámetros (la clase y el costo del ticket) y  regrese el costo actual (USD). Exprese su resultados en USD  </li>\n",
    "</ul> \n",
    "\n",
    "</div>"
   ]
  },
  {
   "cell_type": "code",
   "execution_count": 143,
   "metadata": {},
   "outputs": [],
   "source": [
    "def conversion(clase,costo_ticket):\n",
    "    costo_actual= 0\n",
    "    if clase == '1':\n",
    "        costo_actual=costo_ticket + 40\n",
    "    if clase == '2':\n",
    "        costo_actual=costo_ticket + 15\n",
    "    if clase == '3':\n",
    "        costo_actual=costo_ticket + 0.5\n",
    "    return costo_actual"
   ]
  },
  {
   "cell_type": "code",
   "execution_count": 158,
   "metadata": {},
   "outputs": [
    {
     "name": "stdout",
     "output_type": "stream",
     "text": [
      "Ganancia total: 40339.44930000002 USD\n"
     ]
    }
   ],
   "source": [
    "ganancia_total = 0\n",
    "with open('datos/titanic_datos.txt') as datos:\n",
    "    lector = csv.reader(datos)\n",
    "    next(lector)\n",
    "    for linea in lector:\n",
    "        ganancia_total = conversion(linea[2],float(linea[10])) + ganancia_total\n",
    "print('Ganancia total:', ganancia_total, 'USD')"
   ]
  },
  {
   "cell_type": "markdown",
   "metadata": {},
   "source": [
    "<div class=\"alert alert-success\">\n",
    "\n",
    " <ul>\n",
    "  <li>7. ¿Cuál es la distribución por edad de los pasajeros de manera general, así como para hombres y mujeres? (Usando histogramas)</li>\n",
    "</ul> \n",
    "\n",
    "</div>"
   ]
  },
  {
   "cell_type": "code",
   "execution_count": 188,
   "metadata": {},
   "outputs": [
    {
     "data": {
      "image/png": "[encoded data removed]",
      "text/plain": [
       "<Figure size 432x288 with 1 Axes>"
      ]
     },
     "metadata": {
      "needs_background": "light"
     },
     "output_type": "display_data"
    }
   ],
   "source": [
    "edades = []\n",
    "with open('datos/titanic_datos.txt') as datos:\n",
    "    lector = csv.reader(datos)\n",
    "    next(lector)\n",
    "    for linea in lector:\n",
    "        try:\n",
    "            edades.append(int(linea[6]))\n",
    "        except:\n",
    "            edades = edades\n",
    "\n",
    "plt.hist(edades,bins = len(lista_edades))\n",
    "plt.xlabel('Edades')\n",
    "plt.ylabel('Cantidad')\n",
    "plt.show()"
   ]
  },
  {
   "cell_type": "markdown",
   "metadata": {},
   "source": [
    "<div class=\"alert alert-success\">\n",
    " \n",
    " <ul>\n",
    "  <li> 8. ¿Cómo difiere la tasa de supervivencia entre las diferentes clases del Titanic?</li>\n",
    "</ul> \n",
    "\n",
    "</div>"
   ]
  },
  {
   "cell_type": "code",
   "execution_count": 198,
   "metadata": {},
   "outputs": [
    {
     "name": "stdout",
     "output_type": "stream",
     "text": [
      "Tasa supervivencia clase 1: 0.24242424242424243\n",
      "Tasa supervivencia clase 2: 0.09764309764309764\n",
      "Tasa supervivencia clase 3: 0.1335578002244669\n"
     ]
    }
   ],
   "source": [
    "tasa_superv_clase1 = 0\n",
    "tasa_superv_clase2 = 0\n",
    "tasa_superv_clase3 = 0\n",
    "num_pasajeros = 0\n",
    "with open('datos/titanic_datos.txt') as datos:\n",
    "    lector = csv.reader(datos)\n",
    "    next(lector)\n",
    "    for linea in lector:\n",
    "        num_pasajeros = num_pasajeros + 1\n",
    "        if linea[2] == '1' :\n",
    "            tasa_superv_clase1 = tasa_superv_clase1 + 1\n",
    "        if linea[2]== '2' and linea[1] == '1'  :\n",
    "            tasa_superv_clase2 = tasa_superv_clase2 + 1\n",
    "        if linea[2] == '3' and linea[1] == '1':\n",
    "            tasa_superv_clase3 = tasa_superv_clase3 + 1      \n",
    "            \n",
    "print('Tasa supervivencia clase 1:',tasa_superv_clase1/num_pasajeros)\n",
    "print('Tasa supervivencia clase 2:',tasa_superv_clase2/num_pasajeros)\n",
    "print('Tasa supervivencia clase 3:',tasa_superv_clase3/num_pasajeros)\n"
   ]
  },
  {
   "cell_type": "markdown",
   "metadata": {},
   "source": [
    "\n",
    "\n",
    "<div class=\"alert alert-warning\">\n",
    "\n",
    "**Todas las funciones necesarias para analizar datos como los del ejemplo anterior, se explicarán a lo largo de esta unidad dedicada a la librería Pandas**\n",
    "\n",
    "</div>"
   ]
  },
  {
   "cell_type": "markdown",
   "metadata": {},
   "source": [
    "<img align=\"left\" width=\"800\"  float= \"none\" align=\"middle\" src=\"figuras/titanic2.png\">"
   ]
  }
 ],
 "metadata": {
  "kernelspec": {
   "display_name": "Python 3 (ipykernel)",
   "language": "python",
   "name": "python3"
  },
  "language_info": {
   "codemirror_mode": {
    "name": "ipython",
    "version": 3
   },
   "file_extension": ".py",
   "mimetype": "text/x-python",
   "name": "python",
   "nbconvert_exporter": "python",
   "pygments_lexer": "ipython3",
   "version": "3.9.6"
  }
 },
 "nbformat": 4,
 "nbformat_minor": 4
}
