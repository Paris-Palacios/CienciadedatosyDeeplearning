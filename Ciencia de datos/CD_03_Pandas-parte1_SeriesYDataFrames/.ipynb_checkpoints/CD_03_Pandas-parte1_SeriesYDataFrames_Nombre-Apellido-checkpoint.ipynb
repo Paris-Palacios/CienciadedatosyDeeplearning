{
 "cells": [
  {
   "cell_type": "markdown",
   "metadata": {},
   "source": [
    "<!--Información del curso-->\n",
    "<img align=\"left\" style=\"padding-right:10px;\" src=\"figuras/logo_ciencia_datos.png\">"
   ]
  },
  {
   "cell_type": "markdown",
   "metadata": {},
   "source": [
    "<center><h1 style=\"font-size:2em;color:#2467C0\"> Pandas -Parte 1  </h1></center>\n",
    "\n",
    "<center><h2 style=\"font-size:2em;color:#840700\">  Pandas - Series y DataFrames  </h4></center>\n",
    "\n",
    "<br>\n",
    "<table>\n",
    "<col width=\"550\">\n",
    "<col width=\"450\">\n",
    "<tr>\n",
    "<td><img src=\"figuras/WesM.png\" align=\"left\" style=\"width:500px\"/></td>\n",
    "<td>\n",
    "\n",
    "* **Wes McKinney**, empezó a desarrollar Pandas en el año 2008 mientras trabajaba en *AQR Capital* [https://www.aqr.com/] por la necesidad que tenía de una herramienta flexible de alto rendimiento para realizar análisis cuantitativos en datos financieros. \n",
    "* Antes de dejar AQR convenció a la administración de la empresa de distribuir esta biblioteca bajo licencia de código abierto.\n",
    "* **Pandas** es un acrónimo de **PANel DAta analysiS**\n",
    "   \n",
    "    \n",
    "<br>\n",
    "</td>\n",
    "</tr>\n",
    "</table>"
   ]
  },
  {
   "cell_type": "markdown",
   "metadata": {},
   "source": [
    "# Librerías\n",
    "\n",
    "Cargando las bibliotecas que necesitamos \n"
   ]
  },
  {
   "cell_type": "code",
   "execution_count": 2,
   "metadata": {},
   "outputs": [],
   "source": [
    "import pandas as pd\n",
    "import numpy as np\n",
    "import matplotlib.pyplot as plt"
   ]
  },
  {
   "cell_type": "markdown",
   "metadata": {},
   "source": [
    "# Introduccion "
   ]
  },
  {
   "cell_type": "markdown",
   "metadata": {},
   "source": [
    "* Pandas es un paquete de Python que proporciona estructuras de datos rápidas, flexibles y expresivas diseñadas para hacer que el trabajo con datos \"relacionales\" o \"etiquetados\" sea fácil e intuitivo. \n",
    "* Pretende ser el elemento fundamental de alto nivel para realizar análisis de datos prácticos y del mundo real en Python.\n",
    "* La documentación oficial de Pandas se puede encontrar en el siguiente link https://pandas.pydata.org/pandas-docs/stable/\n",
    "\n",
    "\n",
    "<img align=\"left\" width=60% src=\"figuras/pandas2.jpeg\">"
   ]
  },
  {
   "cell_type": "markdown",
   "metadata": {},
   "source": [
    "Características principales de uso:\n",
    "* Ingestión de datos (Data ingestion)\n",
    "* Estadística descriptiva\n",
    "* Limpieza de datos\n",
    "* Visualización\n",
    "* Transformación de datos\n",
    "* Combinando DataFrames\n",
    "* Manejo datos utilizando una variable temporal"
   ]
  },
  {
   "cell_type": "markdown",
   "metadata": {},
   "source": [
    "# Estructuras de datos en Pandas : Series y DataFrames\n",
    "\n",
    "Pandas proporciona dos tipos de datos fundamentales, para 1D (**Series**) y datos 2D (**DataFrame**).\n",
    "\n",
    "\n",
    "<img align=\"left\" width=75% src=\"figuras/SeriesYDataFrame.png\">"
   ]
  },
  {
   "cell_type": "markdown",
   "metadata": {},
   "source": [
    "<img align=\"left\" width=60% src=\"figuras/DataFrame.png\">"
   ]
  },
  {
   "cell_type": "markdown",
   "metadata": {},
   "source": [
    "En el nivel más básico, los objetos Pandas se pueden considerar como versiones mejoradas de matrices estructuradas NumPy en las que las filas y columnas se identifican con etiquetas en lugar de índices enteros simples. Como veremos durante el transcurso de esta unidad, Pandas proporciona una serie de herramientas, métodos y funcionalidades útiles además de las estructuras de datos básicas. Por lo tanto, introduzcamos estas tres estructuras de datos fundamentales de Pandas: **Series** y **DataFrames**.\n"
   ]
  },
  {
   "cell_type": "markdown",
   "metadata": {},
   "source": [
    "# Las Series\n",
    "Las **Series** de Pandas son un arreglos unidimensionales de datos indexados. Se pueden crear a partir de una lista o arreglo de la siguiente manera:\n"
   ]
  },
  {
   "cell_type": "code",
   "execution_count": 3,
   "metadata": {},
   "outputs": [
    {
     "data": {
      "text/plain": [
       "0    0.25\n",
       "1    0.50\n",
       "2    0.75\n",
       "3    1.00\n",
       "dtype: float64"
      ]
     },
     "execution_count": 3,
     "metadata": {},
     "output_type": "execute_result"
    }
   ],
   "source": [
    "data = pd.Series([0.25, 0.5, 0.75, 1.0])\n",
    "data"
   ]
  },
  {
   "cell_type": "markdown",
   "metadata": {},
   "source": [
    "Como vemos en la salida anterior, la **Serie** envuelve cuenta con una secuencia de ``índices`` como  de ``valores``. Los ``valores`` son simplemente un arreglo de NumPy "
   ]
  },
  {
   "cell_type": "code",
   "execution_count": 4,
   "metadata": {},
   "outputs": [
    {
     "data": {
      "text/plain": [
       "array([0.25, 0.5 , 0.75, 1.  ])"
      ]
     },
     "execution_count": 4,
     "metadata": {},
     "output_type": "execute_result"
    }
   ],
   "source": [
    "data.values"
   ]
  },
  {
   "cell_type": "markdown",
   "metadata": {},
   "source": [
    "Y para conocer la secuencia de los ``índices`` podemos usar:\n"
   ]
  },
  {
   "cell_type": "code",
   "execution_count": 5,
   "metadata": {},
   "outputs": [
    {
     "data": {
      "text/plain": [
       "RangeIndex(start=0, stop=4, step=1)"
      ]
     },
     "execution_count": 5,
     "metadata": {},
     "output_type": "execute_result"
    }
   ],
   "source": [
    "data.index"
   ]
  },
  {
   "cell_type": "markdown",
   "metadata": {},
   "source": [
    "Al igual que con un arreglo de NumPy, se puede acceder a los datos mediante el índice asociado a través de la conocida notación de corchetes de Python:"
   ]
  },
  {
   "cell_type": "code",
   "execution_count": 6,
   "metadata": {},
   "outputs": [
    {
     "data": {
      "text/plain": [
       "0.5"
      ]
     },
     "execution_count": 6,
     "metadata": {},
     "output_type": "execute_result"
    }
   ],
   "source": [
    "data[1]"
   ]
  },
  {
   "cell_type": "code",
   "execution_count": 7,
   "metadata": {},
   "outputs": [
    {
     "data": {
      "text/plain": [
       "1    0.50\n",
       "2    0.75\n",
       "dtype: float64"
      ]
     },
     "execution_count": 7,
     "metadata": {},
     "output_type": "execute_result"
    }
   ],
   "source": [
    "data[1:3]"
   ]
  },
  {
   "cell_type": "markdown",
   "metadata": {},
   "source": [
    "## Las Series:  arreglos generalizados de NumPy "
   ]
  },
  {
   "cell_type": "markdown",
   "metadata": {},
   "source": [
    "Por lo que hemos visto hasta ahora, puede parecer que las **Series** son básicamente intercambiables con arreglos unidimensionales de NumPy. La diferencia esencial es la presencia de los índices: mientras que los arreglos de Numpy tienen un índice entero definido implícitamente que se utiliza para acceder a los valores (índices asociados a la posición), las Series de Pandas tiene índices definidos explícitamente asociados con los valores. Esta definición de índice explícita le da a las Series características  adicionales. \n",
    "\n",
    "\n",
    "Por ejemplo, no es necesario que el índice sea un número entero. "
   ]
  },
  {
   "cell_type": "code",
   "execution_count": 8,
   "metadata": {},
   "outputs": [
    {
     "data": {
      "text/plain": [
       "a    0.25\n",
       "b    0.50\n",
       "c    0.75\n",
       "d    1.00\n",
       "dtype: float64"
      ]
     },
     "execution_count": 8,
     "metadata": {},
     "output_type": "execute_result"
    }
   ],
   "source": [
    "data = pd.Series([0.25, 0.5, 0.75, 1.0],\n",
    "                 index=['a', 'b', 'c', 'd'])\n",
    "data"
   ]
  },
  {
   "cell_type": "markdown",
   "metadata": {},
   "source": [
    "Y el acceso a cada elemento funciona con su respectivo índice:"
   ]
  },
  {
   "cell_type": "code",
   "execution_count": 9,
   "metadata": {},
   "outputs": [
    {
     "data": {
      "text/plain": [
       "0.5"
      ]
     },
     "execution_count": 9,
     "metadata": {},
     "output_type": "execute_result"
    }
   ],
   "source": [
    "data['b']"
   ]
  },
  {
   "cell_type": "markdown",
   "metadata": {},
   "source": [
    "Incluso podemos utilizar índices no contiguos o no secuenciales:"
   ]
  },
  {
   "cell_type": "code",
   "execution_count": 10,
   "metadata": {},
   "outputs": [
    {
     "data": {
      "text/plain": [
       "2    0.25\n",
       "5    0.50\n",
       "3    0.75\n",
       "7    1.00\n",
       "dtype: float64"
      ]
     },
     "execution_count": 10,
     "metadata": {},
     "output_type": "execute_result"
    }
   ],
   "source": [
    "data = pd.Series([0.25, 0.5, 0.75, 1.0],\n",
    "                 index=[2, 5, 3, 7])\n",
    "data"
   ]
  },
  {
   "cell_type": "code",
   "execution_count": 11,
   "metadata": {},
   "outputs": [
    {
     "data": {
      "text/plain": [
       "0.5"
      ]
     },
     "execution_count": 11,
     "metadata": {},
     "output_type": "execute_result"
    }
   ],
   "source": [
    "data[5]"
   ]
  },
  {
   "cell_type": "markdown",
   "metadata": {},
   "source": [
    "## Las Series y  diccionarios de Python"
   ]
  },
  {
   "cell_type": "markdown",
   "metadata": {},
   "source": [
    "Se puede considerar que una **Serie** es similar a un diccionario ordenado que asigna un valor a una etiqueta, de hecho, es posible construir una serie directamente desde un diccionario de Python:"
   ]
  },
  {
   "cell_type": "code",
   "execution_count": 12,
   "metadata": {},
   "outputs": [
    {
     "data": {
      "text/plain": [
       "California    38.3\n",
       "Texas         26.4\n",
       "New York      19.6\n",
       "Florida       19.5\n",
       "Illinois      12.8\n",
       "Washington    17.5\n",
       "dtype: float64"
      ]
     },
     "execution_count": 12,
     "metadata": {},
     "output_type": "execute_result"
    }
   ],
   "source": [
    "poblacion_diccionario = {'California': 38.3,\n",
    "                   'Texas': 26.4,\n",
    "                   'New York': 19.6,\n",
    "                   'Florida': 19.5,\n",
    "                   'Illinois': 12.8,\n",
    "                   'Washington': 17.5,     \n",
    "                        }\n",
    "poblacion = pd.Series(poblacion_diccionario)\n",
    "poblacion"
   ]
  },
  {
   "cell_type": "markdown",
   "metadata": {},
   "source": [
    "De forma predeterminada, se creará una **Serie** donde el índice se extrae de las etiquetas ordenadas y se puede realizar el acceso típico a elementos al estilo de un diccionario de Python:"
   ]
  },
  {
   "cell_type": "code",
   "execution_count": 13,
   "metadata": {},
   "outputs": [
    {
     "data": {
      "text/plain": [
       "38.3"
      ]
     },
     "execution_count": 13,
     "metadata": {},
     "output_type": "execute_result"
    }
   ],
   "source": [
    "poblacion['California']"
   ]
  },
  {
   "cell_type": "markdown",
   "metadata": {},
   "source": [
    "Sin embargo, a diferencia de un diccionario, las **Series** también admiten operaciones de segmentación:"
   ]
  },
  {
   "cell_type": "code",
   "execution_count": 14,
   "metadata": {},
   "outputs": [
    {
     "data": {
      "text/plain": [
       "California    38.3\n",
       "Texas         26.4\n",
       "New York      19.6\n",
       "Florida       19.5\n",
       "dtype: float64"
      ]
     },
     "execution_count": 14,
     "metadata": {},
     "output_type": "execute_result"
    }
   ],
   "source": [
    "poblacion['California':'Florida']"
   ]
  },
  {
   "cell_type": "markdown",
   "metadata": {},
   "source": [
    "Discutiremos algunas de las peculiaridades de la indexación y segmentación de Pandas en las siguientes lecciones."
   ]
  },
  {
   "cell_type": "markdown",
   "metadata": {},
   "source": [
    "# DataFrames\n",
    "\n",
    "La siguiente estructura fundamental en Pandas es el **DataFrame**. Al igual que las **Series** presentadas en la sección anterior, los  **DataFrame** se pueden considerar como una generalización de arreglos de NumPy o como   diccionarios especializados de Python."
   ]
  },
  {
   "cell_type": "markdown",
   "metadata": {},
   "source": [
    "## DataFrame como un arreglo generalizado de NumPy \n"
   ]
  },
  {
   "cell_type": "markdown",
   "metadata": {},
   "source": [
    "\n",
    "Si una **Serie** es un análogo de un arreglo unidimensional con índices flexibles, un **DataFrame** es un análogo de un arreglo bidimensional con índices de filas flexibles y nombres de columnas flexibles.\n",
    "Así como podría pensar en un arreglo bidimensional como una secuencia ordenada de columnas unidimensionales alineadas, se puede pensar en un **DataFrame** como una secuencia de objetos alineados de **Serie**,  por *alineados* queremos decir que comparten el mismo índice.\n",
    "\n",
    "Para demostrar esto, construyamos primero una nueva **Serie** que enumere el área de cada uno de los  estados mostrados en la sección anterior:\n"
   ]
  },
  {
   "cell_type": "code",
   "execution_count": 15,
   "metadata": {},
   "outputs": [
    {
     "data": {
      "text/plain": [
       "California    423967\n",
       "Texas         695662\n",
       "New York      141297\n",
       "Florida       170312\n",
       "Illinois      149995\n",
       "Washington    289990\n",
       "dtype: int64"
      ]
     },
     "execution_count": 15,
     "metadata": {},
     "output_type": "execute_result"
    }
   ],
   "source": [
    "area_diccionario = {'California': 423967, 'Texas': 695662, 'New York': 141297,\n",
    "             'Florida': 170312, 'Illinois': 149995,'Washington': 289990}\n",
    "area = pd.Series(area_diccionario)\n",
    "area"
   ]
  },
  {
   "cell_type": "markdown",
   "metadata": {},
   "source": [
    "Ahora que tenemos esto junto con la serie de población de anterior, podemos usar un diccionario para construir un único objeto bidimensional que contenga esta información:\n"
   ]
  },
  {
   "cell_type": "code",
   "execution_count": 16,
   "metadata": {},
   "outputs": [
    {
     "data": {
      "text/html": [
       "<div>\n",
       "<style scoped>\n",
       "    .dataframe tbody tr th:only-of-type {\n",
       "        vertical-align: middle;\n",
       "    }\n",
       "\n",
       "    .dataframe tbody tr th {\n",
       "        vertical-align: top;\n",
       "    }\n",
       "\n",
       "    .dataframe thead th {\n",
       "        text-align: right;\n",
       "    }\n",
       "</style>\n",
       "<table border=\"1\" class=\"dataframe\">\n",
       "  <thead>\n",
       "    <tr style=\"text-align: right;\">\n",
       "      <th></th>\n",
       "      <th>poblacion</th>\n",
       "      <th>area</th>\n",
       "    </tr>\n",
       "  </thead>\n",
       "  <tbody>\n",
       "    <tr>\n",
       "      <th>California</th>\n",
       "      <td>38.3</td>\n",
       "      <td>423967</td>\n",
       "    </tr>\n",
       "    <tr>\n",
       "      <th>Texas</th>\n",
       "      <td>26.4</td>\n",
       "      <td>695662</td>\n",
       "    </tr>\n",
       "    <tr>\n",
       "      <th>New York</th>\n",
       "      <td>19.6</td>\n",
       "      <td>141297</td>\n",
       "    </tr>\n",
       "    <tr>\n",
       "      <th>Florida</th>\n",
       "      <td>19.5</td>\n",
       "      <td>170312</td>\n",
       "    </tr>\n",
       "    <tr>\n",
       "      <th>Illinois</th>\n",
       "      <td>12.8</td>\n",
       "      <td>149995</td>\n",
       "    </tr>\n",
       "    <tr>\n",
       "      <th>Washington</th>\n",
       "      <td>17.5</td>\n",
       "      <td>289990</td>\n",
       "    </tr>\n",
       "  </tbody>\n",
       "</table>\n",
       "</div>"
      ],
      "text/plain": [
       "            poblacion    area\n",
       "California       38.3  423967\n",
       "Texas            26.4  695662\n",
       "New York         19.6  141297\n",
       "Florida          19.5  170312\n",
       "Illinois         12.8  149995\n",
       "Washington       17.5  289990"
      ]
     },
     "execution_count": 16,
     "metadata": {},
     "output_type": "execute_result"
    }
   ],
   "source": [
    "estados = pd.DataFrame({'poblacion': poblacion,\n",
    "                       'area': area})\n",
    "estados"
   ]
  },
  {
   "cell_type": "markdown",
   "metadata": {},
   "source": [
    "Como en las **Series**, el **DataFrame** tiene un atributo de ``index`` que da acceso a las etiquetas del índice:"
   ]
  },
  {
   "cell_type": "code",
   "execution_count": 17,
   "metadata": {},
   "outputs": [
    {
     "data": {
      "text/plain": [
       "Index(['California', 'Texas', 'New York', 'Florida', 'Illinois', 'Washington'], dtype='object')"
      ]
     },
     "execution_count": 17,
     "metadata": {},
     "output_type": "execute_result"
    }
   ],
   "source": [
    "estados.index\n"
   ]
  },
  {
   "cell_type": "markdown",
   "metadata": {},
   "source": [
    "Además, el **DataFrame** tiene un atributo ``columns``  que contiene las etiquetas de las columnas:"
   ]
  },
  {
   "cell_type": "code",
   "execution_count": 18,
   "metadata": {},
   "outputs": [
    {
     "data": {
      "text/plain": [
       "Index(['poblacion', 'area'], dtype='object')"
      ]
     },
     "execution_count": 18,
     "metadata": {},
     "output_type": "execute_result"
    }
   ],
   "source": [
    "estados.columns"
   ]
  },
  {
   "cell_type": "markdown",
   "metadata": {},
   "source": [
    "Thus the ``DataFrame`` can be thought of as a generalization of a two-dimensional NumPy array, where both the rows and columns have a generalized index for accessing the data."
   ]
  },
  {
   "cell_type": "markdown",
   "metadata": {},
   "source": [
    "### DataFrame como un diccionario especializado\n"
   ]
  },
  {
   "cell_type": "markdown",
   "metadata": {},
   "source": [
    "Se puede  pensar en un **DataFrame** como una diccionario especializado, ya que un **DataFrame** además asigna un nombre a cada columna. Por ejemplo, al pedir el 'area' obtendremos los elementos de la columna 'area':"
   ]
  },
  {
   "cell_type": "code",
   "execution_count": 19,
   "metadata": {},
   "outputs": [
    {
     "data": {
      "text/plain": [
       "California    423967\n",
       "Texas         695662\n",
       "New York      141297\n",
       "Florida       170312\n",
       "Illinois      149995\n",
       "Washington    289990\n",
       "Name: area, dtype: int64"
      ]
     },
     "execution_count": 19,
     "metadata": {},
     "output_type": "execute_result"
    }
   ],
   "source": [
    "estados['area']"
   ]
  },
  {
   "cell_type": "markdown",
   "metadata": {},
   "source": [
    "De igual manera para la columna 'poblacion'"
   ]
  },
  {
   "cell_type": "code",
   "execution_count": 20,
   "metadata": {},
   "outputs": [
    {
     "data": {
      "text/plain": [
       "California    38.3\n",
       "Texas         26.4\n",
       "New York      19.6\n",
       "Florida       19.5\n",
       "Illinois      12.8\n",
       "Washington    17.5\n",
       "Name: poblacion, dtype: float64"
      ]
     },
     "execution_count": 20,
     "metadata": {},
     "output_type": "execute_result"
    }
   ],
   "source": [
    "estados['poblacion']"
   ]
  },
  {
   "cell_type": "markdown",
   "metadata": {},
   "source": [
    "### Construyendo DataFrames\n",
    "\n",
    "Un **DataFrame** de Pandas se puede construir de varias formas utilizando la función ``DataFrame``. Aquí daremos varios ejemplos.\n"
   ]
  },
  {
   "cell_type": "markdown",
   "metadata": {},
   "source": [
    "#### a) Utilizando una Serie\n",
    "\n",
    "Un **DataFrame** es una colección de **Series**, y un **DataFrame** de una sola columna se puede construir a partir de una sola **Serie**:\n"
   ]
  },
  {
   "cell_type": "code",
   "execution_count": 21,
   "metadata": {},
   "outputs": [
    {
     "data": {
      "text/html": [
       "<div>\n",
       "<style scoped>\n",
       "    .dataframe tbody tr th:only-of-type {\n",
       "        vertical-align: middle;\n",
       "    }\n",
       "\n",
       "    .dataframe tbody tr th {\n",
       "        vertical-align: top;\n",
       "    }\n",
       "\n",
       "    .dataframe thead th {\n",
       "        text-align: right;\n",
       "    }\n",
       "</style>\n",
       "<table border=\"1\" class=\"dataframe\">\n",
       "  <thead>\n",
       "    <tr style=\"text-align: right;\">\n",
       "      <th></th>\n",
       "      <th>Poblacion de muestra</th>\n",
       "    </tr>\n",
       "  </thead>\n",
       "  <tbody>\n",
       "    <tr>\n",
       "      <th>California</th>\n",
       "      <td>38.3</td>\n",
       "    </tr>\n",
       "    <tr>\n",
       "      <th>Texas</th>\n",
       "      <td>26.4</td>\n",
       "    </tr>\n",
       "    <tr>\n",
       "      <th>New York</th>\n",
       "      <td>19.6</td>\n",
       "    </tr>\n",
       "    <tr>\n",
       "      <th>Florida</th>\n",
       "      <td>19.5</td>\n",
       "    </tr>\n",
       "    <tr>\n",
       "      <th>Illinois</th>\n",
       "      <td>12.8</td>\n",
       "    </tr>\n",
       "    <tr>\n",
       "      <th>Washington</th>\n",
       "      <td>17.5</td>\n",
       "    </tr>\n",
       "  </tbody>\n",
       "</table>\n",
       "</div>"
      ],
      "text/plain": [
       "            Poblacion de muestra\n",
       "California                  38.3\n",
       "Texas                       26.4\n",
       "New York                    19.6\n",
       "Florida                     19.5\n",
       "Illinois                    12.8\n",
       "Washington                  17.5"
      ]
     },
     "execution_count": 21,
     "metadata": {},
     "output_type": "execute_result"
    }
   ],
   "source": [
    "pd.DataFrame(poblacion, columns=['Poblacion de muestra'])"
   ]
  },
  {
   "cell_type": "markdown",
   "metadata": {},
   "source": [
    "#### b) Lista de diccionarios\n",
    "\n",
    "\n",
    "Un conjunto de diccionarios se pueden convertir en un **DataFrame**."
   ]
  },
  {
   "cell_type": "code",
   "execution_count": 22,
   "metadata": {},
   "outputs": [
    {
     "data": {
      "text/html": [
       "<div>\n",
       "<style scoped>\n",
       "    .dataframe tbody tr th:only-of-type {\n",
       "        vertical-align: middle;\n",
       "    }\n",
       "\n",
       "    .dataframe tbody tr th {\n",
       "        vertical-align: top;\n",
       "    }\n",
       "\n",
       "    .dataframe thead th {\n",
       "        text-align: right;\n",
       "    }\n",
       "</style>\n",
       "<table border=\"1\" class=\"dataframe\">\n",
       "  <thead>\n",
       "    <tr style=\"text-align: right;\">\n",
       "      <th></th>\n",
       "      <th>a</th>\n",
       "      <th>b</th>\n",
       "    </tr>\n",
       "  </thead>\n",
       "  <tbody>\n",
       "    <tr>\n",
       "      <th>x</th>\n",
       "      <td>0</td>\n",
       "      <td>0</td>\n",
       "    </tr>\n",
       "    <tr>\n",
       "      <th>y</th>\n",
       "      <td>1</td>\n",
       "      <td>2</td>\n",
       "    </tr>\n",
       "    <tr>\n",
       "      <th>z</th>\n",
       "      <td>2</td>\n",
       "      <td>4</td>\n",
       "    </tr>\n",
       "  </tbody>\n",
       "</table>\n",
       "</div>"
      ],
      "text/plain": [
       "   a  b\n",
       "x  0  0\n",
       "y  1  2\n",
       "z  2  4"
      ]
     },
     "execution_count": 22,
     "metadata": {},
     "output_type": "execute_result"
    }
   ],
   "source": [
    "data = {'a': {'x':0,'y':1,'z':2} , 'b': {'x':0,'y':2,'z':4} }\n",
    "pd.DataFrame(data)"
   ]
  },
  {
   "cell_type": "markdown",
   "metadata": {},
   "source": [
    "\n",
    "Incluso si faltan algunos elementos en los diccionarios, Pandas las completará con valores ``NaN`` (es decir, \"not a number\"):"
   ]
  },
  {
   "cell_type": "code",
   "execution_count": 23,
   "metadata": {},
   "outputs": [
    {
     "data": {
      "text/html": [
       "<div>\n",
       "<style scoped>\n",
       "    .dataframe tbody tr th:only-of-type {\n",
       "        vertical-align: middle;\n",
       "    }\n",
       "\n",
       "    .dataframe tbody tr th {\n",
       "        vertical-align: top;\n",
       "    }\n",
       "\n",
       "    .dataframe thead th {\n",
       "        text-align: right;\n",
       "    }\n",
       "</style>\n",
       "<table border=\"1\" class=\"dataframe\">\n",
       "  <thead>\n",
       "    <tr style=\"text-align: right;\">\n",
       "      <th></th>\n",
       "      <th>a</th>\n",
       "      <th>b</th>\n",
       "    </tr>\n",
       "  </thead>\n",
       "  <tbody>\n",
       "    <tr>\n",
       "      <th>x</th>\n",
       "      <td>0.0</td>\n",
       "      <td>NaN</td>\n",
       "    </tr>\n",
       "    <tr>\n",
       "      <th>y</th>\n",
       "      <td>1.0</td>\n",
       "      <td>2.0</td>\n",
       "    </tr>\n",
       "    <tr>\n",
       "      <th>z</th>\n",
       "      <td>NaN</td>\n",
       "      <td>4.0</td>\n",
       "    </tr>\n",
       "  </tbody>\n",
       "</table>\n",
       "</div>"
      ],
      "text/plain": [
       "     a    b\n",
       "x  0.0  NaN\n",
       "y  1.0  2.0\n",
       "z  NaN  4.0"
      ]
     },
     "execution_count": 23,
     "metadata": {},
     "output_type": "execute_result"
    }
   ],
   "source": [
    "data = {'a': {'x':0,'y':1} , 'b': {'y':2,'z':4} }\n",
    "pd.DataFrame(data)"
   ]
  },
  {
   "cell_type": "markdown",
   "metadata": {},
   "source": [
    "#### c) Desde un arreglo bidimensional de  NumPy \n",
    "\n",
    "Dada un arreglo bidimensional de datos, podemos crear un **DataFrame** con cualquier columna e índice especificado. Si se omite, se utilizará un índice entero para cada uno"
   ]
  },
  {
   "cell_type": "code",
   "execution_count": 24,
   "metadata": {},
   "outputs": [
    {
     "data": {
      "text/plain": [
       "array([[0.94774883, 0.12486452],\n",
       "       [0.06884136, 0.41499616],\n",
       "       [0.68227968, 0.48106702]])"
      ]
     },
     "execution_count": 24,
     "metadata": {},
     "output_type": "execute_result"
    }
   ],
   "source": [
    "arreglo2D = np.random.rand(3, 2)\n",
    "arreglo2D"
   ]
  },
  {
   "cell_type": "code",
   "execution_count": 29,
   "metadata": {},
   "outputs": [
    {
     "data": {
      "text/html": [
       "<div>\n",
       "<style scoped>\n",
       "    .dataframe tbody tr th:only-of-type {\n",
       "        vertical-align: middle;\n",
       "    }\n",
       "\n",
       "    .dataframe tbody tr th {\n",
       "        vertical-align: top;\n",
       "    }\n",
       "\n",
       "    .dataframe thead th {\n",
       "        text-align: right;\n",
       "    }\n",
       "</style>\n",
       "<table border=\"1\" class=\"dataframe\">\n",
       "  <thead>\n",
       "    <tr style=\"text-align: right;\">\n",
       "      <th></th>\n",
       "      <th>A</th>\n",
       "      <th>B</th>\n",
       "    </tr>\n",
       "  </thead>\n",
       "  <tbody>\n",
       "    <tr>\n",
       "      <th>x</th>\n",
       "      <td>0.947749</td>\n",
       "      <td>0.124865</td>\n",
       "    </tr>\n",
       "    <tr>\n",
       "      <th>y</th>\n",
       "      <td>0.068841</td>\n",
       "      <td>0.414996</td>\n",
       "    </tr>\n",
       "    <tr>\n",
       "      <th>z</th>\n",
       "      <td>0.682280</td>\n",
       "      <td>0.481067</td>\n",
       "    </tr>\n",
       "  </tbody>\n",
       "</table>\n",
       "</div>"
      ],
      "text/plain": [
       "          A         B\n",
       "x  0.947749  0.124865\n",
       "y  0.068841  0.414996\n",
       "z  0.682280  0.481067"
      ]
     },
     "execution_count": 29,
     "metadata": {},
     "output_type": "execute_result"
    }
   ],
   "source": [
    "# Cuando se especifican los índices de filas y columnas\n",
    "pd.DataFrame(arreglo2D,\n",
    "             columns=['A', 'B'],\n",
    "             index=['x', 'y', 'z'])"
   ]
  },
  {
   "cell_type": "code",
   "execution_count": 26,
   "metadata": {},
   "outputs": [
    {
     "data": {
      "text/html": [
       "<div>\n",
       "<style scoped>\n",
       "    .dataframe tbody tr th:only-of-type {\n",
       "        vertical-align: middle;\n",
       "    }\n",
       "\n",
       "    .dataframe tbody tr th {\n",
       "        vertical-align: top;\n",
       "    }\n",
       "\n",
       "    .dataframe thead th {\n",
       "        text-align: right;\n",
       "    }\n",
       "</style>\n",
       "<table border=\"1\" class=\"dataframe\">\n",
       "  <thead>\n",
       "    <tr style=\"text-align: right;\">\n",
       "      <th></th>\n",
       "      <th>A</th>\n",
       "      <th>B</th>\n",
       "    </tr>\n",
       "  </thead>\n",
       "  <tbody>\n",
       "    <tr>\n",
       "      <th>0</th>\n",
       "      <td>0.947749</td>\n",
       "      <td>0.124865</td>\n",
       "    </tr>\n",
       "    <tr>\n",
       "      <th>1</th>\n",
       "      <td>0.068841</td>\n",
       "      <td>0.414996</td>\n",
       "    </tr>\n",
       "    <tr>\n",
       "      <th>2</th>\n",
       "      <td>0.682280</td>\n",
       "      <td>0.481067</td>\n",
       "    </tr>\n",
       "  </tbody>\n",
       "</table>\n",
       "</div>"
      ],
      "text/plain": [
       "          A         B\n",
       "0  0.947749  0.124865\n",
       "1  0.068841  0.414996\n",
       "2  0.682280  0.481067"
      ]
     },
     "execution_count": 26,
     "metadata": {},
     "output_type": "execute_result"
    }
   ],
   "source": [
    "# Cuando se especifican los índices solo en columnas\n",
    "pd.DataFrame(arreglo2D,\n",
    "             columns=['A', 'B'],)"
   ]
  },
  {
   "cell_type": "code",
   "execution_count": 49,
   "metadata": {},
   "outputs": [
    {
     "data": {
      "text/html": [
       "<div>\n",
       "<style scoped>\n",
       "    .dataframe tbody tr th:only-of-type {\n",
       "        vertical-align: middle;\n",
       "    }\n",
       "\n",
       "    .dataframe tbody tr th {\n",
       "        vertical-align: top;\n",
       "    }\n",
       "\n",
       "    .dataframe thead th {\n",
       "        text-align: right;\n",
       "    }\n",
       "</style>\n",
       "<table border=\"1\" class=\"dataframe\">\n",
       "  <thead>\n",
       "    <tr style=\"text-align: right;\">\n",
       "      <th></th>\n",
       "      <th>0</th>\n",
       "      <th>1</th>\n",
       "    </tr>\n",
       "  </thead>\n",
       "  <tbody>\n",
       "    <tr>\n",
       "      <th>0</th>\n",
       "      <td>0.704263</td>\n",
       "      <td>0.324271</td>\n",
       "    </tr>\n",
       "    <tr>\n",
       "      <th>1</th>\n",
       "      <td>0.854193</td>\n",
       "      <td>0.599664</td>\n",
       "    </tr>\n",
       "    <tr>\n",
       "      <th>2</th>\n",
       "      <td>0.773229</td>\n",
       "      <td>0.888839</td>\n",
       "    </tr>\n",
       "  </tbody>\n",
       "</table>\n",
       "</div>"
      ],
      "text/plain": [
       "          0         1\n",
       "0  0.704263  0.324271\n",
       "1  0.854193  0.599664\n",
       "2  0.773229  0.888839"
      ]
     },
     "execution_count": 49,
     "metadata": {},
     "output_type": "execute_result"
    }
   ],
   "source": [
    "# Cuando no se especifican los índices \n",
    "pd.DataFrame(arreglo2D)"
   ]
  },
  {
   "cell_type": "markdown",
   "metadata": {},
   "source": [
    "Para manejar de una manera eficiente los **DataFrame** se recomienda siempre asignar nombres a las columnas"
   ]
  },
  {
   "cell_type": "markdown",
   "metadata": {},
   "source": [
    "#### d)  Combinando  Series\n",
    "\n",
    "Como vimos antes, un **DataFrame** también se puede construir a partir de **Series**"
   ]
  },
  {
   "cell_type": "code",
   "execution_count": 50,
   "metadata": {},
   "outputs": [
    {
     "data": {
      "text/html": [
       "<div>\n",
       "<style scoped>\n",
       "    .dataframe tbody tr th:only-of-type {\n",
       "        vertical-align: middle;\n",
       "    }\n",
       "\n",
       "    .dataframe tbody tr th {\n",
       "        vertical-align: top;\n",
       "    }\n",
       "\n",
       "    .dataframe thead th {\n",
       "        text-align: right;\n",
       "    }\n",
       "</style>\n",
       "<table border=\"1\" class=\"dataframe\">\n",
       "  <thead>\n",
       "    <tr style=\"text-align: right;\">\n",
       "      <th></th>\n",
       "      <th>poblacion</th>\n",
       "      <th>area</th>\n",
       "    </tr>\n",
       "  </thead>\n",
       "  <tbody>\n",
       "    <tr>\n",
       "      <th>California</th>\n",
       "      <td>38.3</td>\n",
       "      <td>423967</td>\n",
       "    </tr>\n",
       "    <tr>\n",
       "      <th>Texas</th>\n",
       "      <td>26.4</td>\n",
       "      <td>695662</td>\n",
       "    </tr>\n",
       "    <tr>\n",
       "      <th>New York</th>\n",
       "      <td>19.6</td>\n",
       "      <td>141297</td>\n",
       "    </tr>\n",
       "    <tr>\n",
       "      <th>Florida</th>\n",
       "      <td>19.5</td>\n",
       "      <td>170312</td>\n",
       "    </tr>\n",
       "    <tr>\n",
       "      <th>Illinois</th>\n",
       "      <td>12.8</td>\n",
       "      <td>149995</td>\n",
       "    </tr>\n",
       "    <tr>\n",
       "      <th>Washington</th>\n",
       "      <td>17.5</td>\n",
       "      <td>289990</td>\n",
       "    </tr>\n",
       "  </tbody>\n",
       "</table>\n",
       "</div>"
      ],
      "text/plain": [
       "            poblacion    area\n",
       "California       38.3  423967\n",
       "Texas            26.4  695662\n",
       "New York         19.6  141297\n",
       "Florida          19.5  170312\n",
       "Illinois         12.8  149995\n",
       "Washington       17.5  289990"
      ]
     },
     "execution_count": 50,
     "metadata": {},
     "output_type": "execute_result"
    }
   ],
   "source": [
    "pd.DataFrame({'poblacion': poblacion,\n",
    "              'area': area})"
   ]
  },
  {
   "cell_type": "markdown",
   "metadata": {},
   "source": [
    "#####  Ejemplo de un DataFrame a partir de Series y Series a partir de diccionarios"
   ]
  },
  {
   "cell_type": "markdown",
   "metadata": {},
   "source": [
    "Definiremos un DataFrame utilizando 5 diferentes Series, y las Series a partir de Diccionarios utilizando información de Pokémon. Consideraremos 2 variables cuantitativas (altura y peso ) y 3 cualitativas (categoría, tipo y debilidad)\n",
    "\n",
    "[https://www.lavanguardia.com/tecnologia/20160907/403442078796/todos-pokemon.html]\n",
    "\n",
    "<img align=\"left\" width=75% src=\"figuras/pokemones.png\">"
   ]
  },
  {
   "cell_type": "markdown",
   "metadata": {},
   "source": [
    "**1. Diccionarios**"
   ]
  },
  {
   "cell_type": "code",
   "execution_count": 38,
   "metadata": {},
   "outputs": [
    {
     "data": {
      "text/plain": [
       "Altura                 0.7\n",
       "Peso                   6.9\n",
       "Categoría          Semilla\n",
       "Tipo                Planta\n",
       "Debilidad    Hielo y fuego\n",
       "dtype: object"
      ]
     },
     "execution_count": 38,
     "metadata": {},
     "output_type": "execute_result"
    }
   ],
   "source": [
    "bulbasaur_diccionario = {'Altura': 0.7, 'Peso': 6.9, 'Categoría': 'Semilla',\n",
    "             'Tipo': 'Planta', 'Debilidad':  'Hielo y fuego'}\n",
    "bulbasaur = pd.Series(bulbasaur_diccionario)\n",
    "bulbasaur"
   ]
  },
  {
   "cell_type": "code",
   "execution_count": 39,
   "metadata": {},
   "outputs": [
    {
     "data": {
      "text/plain": [
       "Altura                 0.6\n",
       "Peso                   8.5\n",
       "Categoría        Lagartija\n",
       "Tipo                 Fuego\n",
       "Debilidad    Tierra y agua\n",
       "dtype: object"
      ]
     },
     "execution_count": 39,
     "metadata": {},
     "output_type": "execute_result"
    }
   ],
   "source": [
    "charmander_diccionario = {'Altura': 0.6, 'Peso': 8.5, 'Categoría': 'Lagartija',\n",
    "             'Tipo': 'Fuego', 'Debilidad':  'Tierra y agua'}\n",
    "charmander = pd.Series(charmander_diccionario)\n",
    "charmander"
   ]
  },
  {
   "cell_type": "code",
   "execution_count": 40,
   "metadata": {},
   "outputs": [
    {
     "data": {
      "text/plain": [
       "Altura                0.5\n",
       "Peso                  9.0\n",
       "Categoría         Tortuga\n",
       "Debilidad    Electricidad\n",
       "dtype: object"
      ]
     },
     "execution_count": 40,
     "metadata": {},
     "output_type": "execute_result"
    }
   ],
   "source": [
    "squirtle_diccionario = {'Altura': 0.5, 'Peso': 9.0, 'Categoría': 'Tortuga',\n",
    "              'Debilidad':  'Electricidad'}\n",
    "squirtle = pd.Series(squirtle_diccionario)\n",
    "squirtle"
   ]
  },
  {
   "cell_type": "code",
   "execution_count": 41,
   "metadata": {},
   "outputs": [
    {
     "data": {
      "text/plain": [
       "Altura          0.3\n",
       "Peso            2.9\n",
       "Categoría    Gusano\n",
       "Tipo          Bicho\n",
       "dtype: object"
      ]
     },
     "execution_count": 41,
     "metadata": {},
     "output_type": "execute_result"
    }
   ],
   "source": [
    "caterpie_diccionario = {'Altura': 0.3, 'Peso': 2.9, 'Categoría': 'Gusano',\n",
    "             'Tipo':  'Bicho'}\n",
    "caterpie = pd.Series(caterpie_diccionario)\n",
    "caterpie"
   ]
  },
  {
   "cell_type": "code",
   "execution_count": 42,
   "metadata": {},
   "outputs": [
    {
     "data": {
      "text/plain": [
       "Altura         0.3\n",
       "Peso           1.8\n",
       "Debilidad    Hielo\n",
       "dtype: object"
      ]
     },
     "execution_count": 42,
     "metadata": {},
     "output_type": "execute_result"
    }
   ],
   "source": [
    "pidgey_diccionario = {'Altura': 0.3, 'Peso': 1.8, 'Debilidad':  'Hielo'}\n",
    "pidgey = pd.Series(pidgey_diccionario)\n",
    "pidgey"
   ]
  },
  {
   "cell_type": "markdown",
   "metadata": {},
   "source": [
    "**2. Series**"
   ]
  },
  {
   "cell_type": "code",
   "execution_count": 43,
   "metadata": {},
   "outputs": [
    {
     "data": {
      "text/html": [
       "<div>\n",
       "<style scoped>\n",
       "    .dataframe tbody tr th:only-of-type {\n",
       "        vertical-align: middle;\n",
       "    }\n",
       "\n",
       "    .dataframe tbody tr th {\n",
       "        vertical-align: top;\n",
       "    }\n",
       "\n",
       "    .dataframe thead th {\n",
       "        text-align: right;\n",
       "    }\n",
       "</style>\n",
       "<table border=\"1\" class=\"dataframe\">\n",
       "  <thead>\n",
       "    <tr style=\"text-align: right;\">\n",
       "      <th></th>\n",
       "      <th>Bulbasaur</th>\n",
       "      <th>Charmander</th>\n",
       "      <th>Squirtle</th>\n",
       "      <th>Caterpie</th>\n",
       "      <th>Pidgey</th>\n",
       "    </tr>\n",
       "  </thead>\n",
       "  <tbody>\n",
       "    <tr>\n",
       "      <th>Altura</th>\n",
       "      <td>0.7</td>\n",
       "      <td>0.6</td>\n",
       "      <td>0.5</td>\n",
       "      <td>0.3</td>\n",
       "      <td>0.3</td>\n",
       "    </tr>\n",
       "    <tr>\n",
       "      <th>Categoría</th>\n",
       "      <td>Semilla</td>\n",
       "      <td>Lagartija</td>\n",
       "      <td>Tortuga</td>\n",
       "      <td>Gusano</td>\n",
       "      <td>NaN</td>\n",
       "    </tr>\n",
       "    <tr>\n",
       "      <th>Debilidad</th>\n",
       "      <td>Hielo y fuego</td>\n",
       "      <td>Tierra y agua</td>\n",
       "      <td>Electricidad</td>\n",
       "      <td>NaN</td>\n",
       "      <td>Hielo</td>\n",
       "    </tr>\n",
       "    <tr>\n",
       "      <th>Peso</th>\n",
       "      <td>6.9</td>\n",
       "      <td>8.5</td>\n",
       "      <td>9.0</td>\n",
       "      <td>2.9</td>\n",
       "      <td>1.8</td>\n",
       "    </tr>\n",
       "    <tr>\n",
       "      <th>Tipo</th>\n",
       "      <td>Planta</td>\n",
       "      <td>Fuego</td>\n",
       "      <td>NaN</td>\n",
       "      <td>Bicho</td>\n",
       "      <td>NaN</td>\n",
       "    </tr>\n",
       "  </tbody>\n",
       "</table>\n",
       "</div>"
      ],
      "text/plain": [
       "               Bulbasaur     Charmander      Squirtle Caterpie Pidgey\n",
       "Altura               0.7            0.6           0.5      0.3    0.3\n",
       "Categoría        Semilla      Lagartija       Tortuga   Gusano    NaN\n",
       "Debilidad  Hielo y fuego  Tierra y agua  Electricidad      NaN  Hielo\n",
       "Peso                 6.9            8.5           9.0      2.9    1.8\n",
       "Tipo              Planta          Fuego           NaN    Bicho    NaN"
      ]
     },
     "execution_count": 43,
     "metadata": {},
     "output_type": "execute_result"
    }
   ],
   "source": [
    "df_pokemones= pd.DataFrame({'Bulbasaur':bulbasaur,\n",
    "              'Charmander': charmander, \n",
    "              'Squirtle': squirtle, \n",
    "              'Caterpie': caterpie, \n",
    "              'Pidgey': pidgey,               \n",
    "             })\n",
    "df_pokemones"
   ]
  },
  {
   "cell_type": "markdown",
   "metadata": {},
   "source": [
    "# Ejercicio"
   ]
  },
  {
   "cell_type": "markdown",
   "metadata": {},
   "source": [
    "<div class=\"alert alert-success\">\n",
    "\n",
    "**Creación de un DataFrame con series y diccionarios**\n",
    "    \n",
    "1. Definir un DataFrame a partir de 5 series y cada Serie a partir de un diccionario (de algún mismo tópico), considerando  6 características diferentes y combinando tipos de variables (cuantitativas y cualitativas), también puede omitir algunos valores. \n",
    "</div>"
   ]
  },
  {
   "cell_type": "markdown",
   "metadata": {},
   "source": [
    "Se definirán diccionarios con habilidades de varios superheroes"
   ]
  },
  {
   "cell_type": "code",
   "execution_count": 3,
   "metadata": {},
   "outputs": [
    {
     "data": {
      "text/plain": [
       "Nombre real                   Anthony Edward Stark\n",
       "Peso en kg                                     102\n",
       "Altura en metros                              1.85\n",
       "Raza                                        Humano\n",
       "Superpoderes        Intelecto superior y armadura \n",
       "Arma principal           Repulsor y cañon de pecho\n",
       "dtype: object"
      ]
     },
     "execution_count": 3,
     "metadata": {},
     "output_type": "execute_result"
    }
   ],
   "source": [
    "ironman = {\"Nombre real\": \"Anthony Edward Stark\",\"Peso en kg\": 102 ,\"Altura en metros\":1.85,\"Raza\": \"Humano\",\"Superpoderes\": \"Intelecto superior y armadura \",\"Arma principal\": \"Repulsor y cañon de pecho\"}\n",
    "iron_man = pd.Series(ironman)\n",
    "iron_man"
   ]
  },
  {
   "cell_type": "code",
   "execution_count": 4,
   "metadata": {},
   "outputs": [
    {
     "data": {
      "text/plain": [
       "Nombre real         Steven Grant Rogers\n",
       "Peso en kg                          109\n",
       "Altura en metros                   1.88\n",
       "Raza                             Humano\n",
       "Superpoderes               Supersoldado\n",
       "Arma principal      Escudo de vibranium\n",
       "dtype: object"
      ]
     },
     "execution_count": 4,
     "metadata": {},
     "output_type": "execute_result"
    }
   ],
   "source": [
    "cap_america = {\"Nombre real\": \"Steven Grant Rogers\",\"Peso en kg\": 109 ,\"Altura en metros\":1.88,\"Raza\": \"Humano\",\"Superpoderes\": \"Supersoldado\",\"Arma principal\": \"Escudo de vibranium\"}\n",
    "cap_america = pd.Series(cap_america)\n",
    "cap_america"
   ]
  },
  {
   "cell_type": "code",
   "execution_count": 5,
   "metadata": {},
   "outputs": [
    {
     "data": {
      "text/plain": [
       "Nombre real             Thor Odinson\n",
       "Peso en kg                        98\n",
       "Altura en metros                 1.9\n",
       "Raza                      Asgardiano\n",
       "Superpoderes         Dios del trueno\n",
       "Arma principal      Martillo Mjölnir\n",
       "dtype: object"
      ]
     },
     "execution_count": 5,
     "metadata": {},
     "output_type": "execute_result"
    }
   ],
   "source": [
    "thor = {\"Nombre real\": \"Thor Odinson\",\"Peso en kg\": 98 ,\"Altura en metros\":1.90,\"Raza\": \"Asgardiano\",\"Superpoderes\": \"Dios del trueno\",\"Arma principal\": \"Martillo Mjölnir\"}\n",
    "thor = pd.Series(thor)\n",
    "thor"
   ]
  },
  {
   "cell_type": "code",
   "execution_count": 6,
   "metadata": {},
   "outputs": [
    {
     "data": {
      "text/plain": [
       "Nombre real         Robert Bruce Banner\n",
       "Peso en kg                          635\n",
       "Altura en metros                      3\n",
       "Raza                             Humano\n",
       "Superpoderes                Superfuerza\n",
       "Arma principal                    Puños\n",
       "dtype: object"
      ]
     },
     "execution_count": 6,
     "metadata": {},
     "output_type": "execute_result"
    }
   ],
   "source": [
    "hulk = {\"Nombre real\": \"Robert Bruce Banner\",\"Peso en kg\": 635 ,\"Altura en metros\":3,\"Raza\": \"Humano\",\"Superpoderes\": \"Superfuerza\",\"Arma principal\": \"Puños\"}\n",
    "hulk = pd.Series(hulk)\n",
    "hulk"
   ]
  },
  {
   "cell_type": "code",
   "execution_count": 7,
   "metadata": {},
   "outputs": [
    {
     "data": {
      "text/plain": [
       "Nombre real                          Peter Benjamin Parker\n",
       "Peso en kg                                              76\n",
       "Altura en metros                                      1.78\n",
       "Raza                                                Humano\n",
       "Superpoderes        Fuerza, agilidad y sentidos aumentados\n",
       "Arma principal                             Lanza-telarañas\n",
       "dtype: object"
      ]
     },
     "execution_count": 7,
     "metadata": {},
     "output_type": "execute_result"
    }
   ],
   "source": [
    "spiderman = {\"Nombre real\": \"Peter Benjamin Parker\",\"Peso en kg\": 76 ,\"Altura en metros\":1.78,\"Raza\": \"Humano\",\"Superpoderes\": \"Fuerza, agilidad y sentidos aumentados\",\"Arma principal\": \"Lanza-telarañas\"}\n",
    "spiderman = pd.Series(spiderman)\n",
    "spiderman"
   ]
  },
  {
   "cell_type": "code",
   "execution_count": 9,
   "metadata": {},
   "outputs": [
    {
     "data": {
      "text/html": [
       "<div>\n",
       "<style scoped>\n",
       "    .dataframe tbody tr th:only-of-type {\n",
       "        vertical-align: middle;\n",
       "    }\n",
       "\n",
       "    .dataframe tbody tr th {\n",
       "        vertical-align: top;\n",
       "    }\n",
       "\n",
       "    .dataframe thead th {\n",
       "        text-align: right;\n",
       "    }\n",
       "</style>\n",
       "<table border=\"1\" class=\"dataframe\">\n",
       "  <thead>\n",
       "    <tr style=\"text-align: right;\">\n",
       "      <th></th>\n",
       "      <th>Iron Man</th>\n",
       "      <th>Capitan America</th>\n",
       "      <th>Thor</th>\n",
       "      <th>Hulk</th>\n",
       "      <th>Spider-Man</th>\n",
       "    </tr>\n",
       "  </thead>\n",
       "  <tbody>\n",
       "    <tr>\n",
       "      <th>Nombre real</th>\n",
       "      <td>Anthony Edward Stark</td>\n",
       "      <td>Steven Grant Rogers</td>\n",
       "      <td>Thor Odinson</td>\n",
       "      <td>Robert Bruce Banner</td>\n",
       "      <td>Peter Benjamin Parker</td>\n",
       "    </tr>\n",
       "    <tr>\n",
       "      <th>Peso en kg</th>\n",
       "      <td>102</td>\n",
       "      <td>109</td>\n",
       "      <td>98</td>\n",
       "      <td>635</td>\n",
       "      <td>76</td>\n",
       "    </tr>\n",
       "    <tr>\n",
       "      <th>Altura en metros</th>\n",
       "      <td>1.85</td>\n",
       "      <td>1.88</td>\n",
       "      <td>1.9</td>\n",
       "      <td>3</td>\n",
       "      <td>1.78</td>\n",
       "    </tr>\n",
       "    <tr>\n",
       "      <th>Raza</th>\n",
       "      <td>Humano</td>\n",
       "      <td>Humano</td>\n",
       "      <td>Asgardiano</td>\n",
       "      <td>Humano</td>\n",
       "      <td>Humano</td>\n",
       "    </tr>\n",
       "    <tr>\n",
       "      <th>Superpoderes</th>\n",
       "      <td>Intelecto superior y armadura</td>\n",
       "      <td>Supersoldado</td>\n",
       "      <td>Dios del trueno</td>\n",
       "      <td>Superfuerza</td>\n",
       "      <td>Fuerza, agilidad y sentidos aumentados</td>\n",
       "    </tr>\n",
       "    <tr>\n",
       "      <th>Arma principal</th>\n",
       "      <td>Repulsor y cañon de pecho</td>\n",
       "      <td>Escudo de vibranium</td>\n",
       "      <td>Martillo Mjölnir</td>\n",
       "      <td>Puños</td>\n",
       "      <td>Lanza-telarañas</td>\n",
       "    </tr>\n",
       "  </tbody>\n",
       "</table>\n",
       "</div>"
      ],
      "text/plain": [
       "                                        Iron Man      Capitan America  \\\n",
       "Nombre real                 Anthony Edward Stark  Steven Grant Rogers   \n",
       "Peso en kg                                   102                  109   \n",
       "Altura en metros                            1.85                 1.88   \n",
       "Raza                                      Humano               Humano   \n",
       "Superpoderes      Intelecto superior y armadura          Supersoldado   \n",
       "Arma principal         Repulsor y cañon de pecho  Escudo de vibranium   \n",
       "\n",
       "                              Thor                 Hulk  \\\n",
       "Nombre real           Thor Odinson  Robert Bruce Banner   \n",
       "Peso en kg                      98                  635   \n",
       "Altura en metros               1.9                    3   \n",
       "Raza                    Asgardiano               Humano   \n",
       "Superpoderes       Dios del trueno          Superfuerza   \n",
       "Arma principal    Martillo Mjölnir                Puños   \n",
       "\n",
       "                                              Spider-Man  \n",
       "Nombre real                        Peter Benjamin Parker  \n",
       "Peso en kg                                            76  \n",
       "Altura en metros                                    1.78  \n",
       "Raza                                              Humano  \n",
       "Superpoderes      Fuerza, agilidad y sentidos aumentados  \n",
       "Arma principal                           Lanza-telarañas  "
      ]
     },
     "execution_count": 9,
     "metadata": {},
     "output_type": "execute_result"
    }
   ],
   "source": [
    "df_superheroes = pd.DataFrame({\"Iron Man\": iron_man,\"Capitan America\": cap_america,\"Thor\": thor,\"Hulk\": hulk,\"Spider-Man\": spiderman})\n",
    "df_superheroes"
   ]
  },
  {
   "cell_type": "markdown",
   "metadata": {},
   "source": [
    "<div class=\"alert alert-success\">\n",
    "    \n",
    "**Creación de un DataFrame vacío**\n",
    "    \n",
    "2. Definir un DataFrame que contenga un listado de 5 datos de 10 personas (utilizar el método del siguiente ejemplo). \n",
    "</div>\n",
    "\n",
    "Ejemplo:\n",
    "\n",
    "\n",
    "``` python\n",
    "import pandas as pd\n",
    "df = pd.DataFrame()\n",
    "df['first_name'] = ['Josy', 'Vaughn', 'Neale', 'Teirtza']\n",
    "df['last_name'] = ['Clarae', 'Halegarth', 'Georgievski', 'Teirtza']\n",
    "df['gender'] = ['Female', 'Male', 'Male', 'Female']\n",
    "print(df)\n",
    "\n",
    "\n",
    "  first_name    last_name  gender\n",
    "0       Josy       Clarae  Female\n",
    "1     Vaughn    Halegarth    Male\n",
    "2      Neale  Georgievski    Male\n",
    "3    Teirtza      Teirtza  Female\n",
    "\n",
    "```"
   ]
  },
  {
   "cell_type": "code",
   "execution_count": 19,
   "metadata": {},
   "outputs": [
    {
     "name": "stdout",
     "output_type": "stream",
     "text": [
      "      Nombre    Apellido Edad    Sexo Altura\n",
      "0       Juan       Lopez   38  Hombre   1.78\n",
      "1   Samantha      Barnes   24   Mujer   1.56\n",
      "2      Pablo       Gomez   28  Hombre   1.71\n",
      "3  Francisco  Alcubierre   41  Hombre   1.83\n",
      "4       John        Wick   37  Hombre   1.91\n",
      "5     George        Pawn   36  Hombre   1.97\n",
      "6       Zack      Voguel   23  Hombre   1.84\n",
      "7      David       Jones   57  Hombre   1.77\n",
      "8       Jack     Sparrow   39  Hombre   1.85\n",
      "9       Alex   Ascencion   25  Hombre   1.79\n"
     ]
    }
   ],
   "source": [
    "df = pd.DataFrame()\n",
    "df['Nombre'] = ['Juan','Samantha','Pablo','Francisco','John','George','Zack','David','Jack','Alex']\n",
    "df['Apellido'] = ['Lopez','Barnes','Gomez','Alcubierre','Wick','Pawn','Voguel','Jones','Sparrow','Ascencion']\n",
    "df['Edad'] = ['38','24','28','41','37','36','23','57','39','25']\n",
    "df['Sexo'] = ['Hombre','Mujer','Hombre','Hombre','Hombre','Hombre','Hombre','Hombre','Hombre','Hombre']\n",
    "df['Altura'] = ['1.78','1.56','1.71','1.83','1.91','1.97','1.84','1.77','1.85','1.79']\n",
    "print(df)"
   ]
  },
  {
   "cell_type": "markdown",
   "metadata": {},
   "source": [
    "<div class=\"alert alert-success\">\n",
    "\n",
    "**Creación de un DataFrame vacío con columnas**\n",
    "\n",
    "3. Definir un DataFrame que contenga un listado de 4 parámetros de 6 modelos de automóviles (utilizar el método del siguiente ejemplo). \n",
    "</div>\n",
    "\n",
    "Ejemplo:\n",
    "\n",
    "\n",
    "``` python\n",
    "import pandas as pd\n",
    "df = pd.DataFrame()\n",
    "df = pd.DataFrame(columns=['first_name', 'last_name', 'gender'])\n",
    "df = df.append({'first_name': 'Josy', 'last_name':'Clarae', 'gender':'Female'}, ignore_index=True)\n",
    "df = df.append({'first_name': 'Vaughn', 'last_name':'Halegarth', 'gender':'Male'}, ignore_index=True)\n",
    "print(df)\n",
    "\n",
    "\n",
    "  first_name  last_name  gender\n",
    "0       Josy     Clarae  Female\n",
    "1     Vaughn  Halegarth    Male\n",
    "```"
   ]
  },
  {
   "cell_type": "code",
   "execution_count": 33,
   "metadata": {},
   "outputs": [
    {
     "name": "stdout",
     "output_type": "stream",
     "text": [
      "       Modelo   Fabricante Año lanzamiento Precio (USD)\n",
      "0    Roadster        Tesla            2008        98000\n",
      "1     Estoque  Lamborghini            2008       103000\n",
      "2       Yaris       Toyota            1999        14168\n",
      "3          A3         Audi            1996        24115\n",
      "4  F8 Tributo      Ferrari            2019       247280\n",
      "5        Aveo    Chevrolet            2002        12560\n"
     ]
    }
   ],
   "source": [
    "df = pd.DataFrame()\n",
    "df = pd.DataFrame(columns=['Modelo','Fabricante' ,'Año lanzamiento','Precio (USD)'])\n",
    "df = df.append({'Modelo':'Roadster','Fabricante':'Tesla','Año lanzamiento':2008,'Precio (USD)':98000},ignore_index=True)\n",
    "df = df.append({'Modelo':'Estoque','Fabricante':'Lamborghini','Año lanzamiento':2008,'Precio (USD)':103000}, ignore_index=True)\n",
    "df = df.append({'Modelo':'Yaris','Fabricante':'Toyota','Año lanzamiento':1999,'Precio (USD)':14168}, ignore_index=True)\n",
    "df = df.append({'Modelo':'A3','Fabricante':'Audi','Año lanzamiento':1996,'Precio (USD)':24115}, ignore_index=True)\n",
    "df = df.append({'Modelo':'F8 Tributo','Fabricante':'Ferrari','Año lanzamiento':2019,'Precio (USD)':247280}, ignore_index=True)\n",
    "df = df.append({'Modelo':'Aveo','Fabricante':'Chevrolet','Año lanzamiento':2002,'Precio (USD)':12560}, ignore_index=True)\n",
    "print(df)"
   ]
  },
  {
   "cell_type": "markdown",
   "metadata": {},
   "source": [
    "<div class=\"alert alert-success\">\n",
    "\n",
    "**Creación de un DataFrame vacío con columnas e índices**\n",
    "\n",
    "4. Definir un DataFrame que contenga un listado de 4 parámetros de 6 modelos de celulares (utilizar el método del siguiente ejemplo). \n",
    "</div>\n",
    "\n",
    "Ejemplo:\n",
    "\n",
    "\n",
    "``` python\n",
    "import pandas as pd\n",
    "df = pd.DataFrame()\n",
    "df = pd.DataFrame(columns=['first_name', 'last_name', 'gender'],index=range(3))\n",
    "df.iloc[0] = ['Josy', 'Clarae', 'Female']\n",
    "df.iloc[1] = ['Vaughn', 'Halegarth', 'Male']\n",
    "df.iloc[2] = ['Neale', 'Georgievski', 'Male']\n",
    "print(df)\n",
    "\n",
    "\n",
    "  first_name  last_name  gender\n",
    "0       Josy     Clarae  Female\n",
    "1     Vaughn  Halegarth    Male\n",
    "```"
   ]
  },
  {
   "cell_type": "code",
   "execution_count": 49,
   "metadata": {},
   "outputs": [
    {
     "name": "stdout",
     "output_type": "stream",
     "text": [
      "                     Modelo Tamaño (pulgadas) Precio(MXN) Memoria\n",
      "0              Motorola G10              6.5\"        4300  128 GB\n",
      "1     Xiaomi Redmi Note 10S             6.43\"        5078   64 GB\n",
      "2         Samsung Galaxy S8              5.8\"       4,356   64 GB\n",
      "3  Motorola Moto One Fusion              6.5\"        4644  128 GB\n",
      "4           iPhone XR Apple              6.1\"        8099   64 GB\n",
      "5                Realme X50              6.6\"        5118  128 GB\n"
     ]
    }
   ],
   "source": [
    "df = pd.DataFrame()\n",
    "df = pd.DataFrame(columns=['Modelo', 'Tamaño (pulgadas)', 'Precio(MXN)','Memoria'],index=range(6))\n",
    "df.iloc[0] = ['Motorola G10', '6.5\"', '4300','128 GB']\n",
    "df.iloc[1] = ['Xiaomi Redmi Note 10S', '6.43\"', '5078','64 GB']\n",
    "df.iloc[2] = ['Samsung Galaxy S8', '5.8\"', '4,356','64 GB']\n",
    "df.iloc[3] = ['Motorola Moto One Fusion', '6.5\"', '4644','128 GB']\n",
    "df.iloc[4] = ['iPhone XR Apple', '6.1\"', '8099','64 GB']\n",
    "df.iloc[5] = ['Realme X50', '6.6\"', '5118','128 GB']\n",
    "print(df)"
   ]
  },
  {
   "cell_type": "code",
   "execution_count": null,
   "metadata": {},
   "outputs": [],
   "source": []
  },
  {
   "cell_type": "code",
   "execution_count": null,
   "metadata": {},
   "outputs": [],
   "source": []
  }
 ],
 "metadata": {
  "kernelspec": {
   "display_name": "Python 3 (ipykernel)",
   "language": "python",
   "name": "python3"
  },
  "language_info": {
   "codemirror_mode": {
    "name": "ipython",
    "version": 3
   },
   "file_extension": ".py",
   "mimetype": "text/x-python",
   "name": "python",
   "nbconvert_exporter": "python",
   "pygments_lexer": "ipython3",
   "version": "3.9.7"
  }
 },
 "nbformat": 4,
 "nbformat_minor": 4
}
